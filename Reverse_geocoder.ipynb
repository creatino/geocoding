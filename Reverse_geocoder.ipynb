{
  "nbformat": 4,
  "nbformat_minor": 0,
  "metadata": {
    "colab": {
      "provenance": [],
      "authorship_tag": "ABX9TyMa3LsjeF+7CACTxQRQjU4/",
      "include_colab_link": true
    },
    "kernelspec": {
      "name": "python3",
      "display_name": "Python 3"
    },
    "language_info": {
      "name": "python"
    }
  },
  "cells": [
    {
      "cell_type": "markdown",
      "metadata": {
        "id": "view-in-github",
        "colab_type": "text"
      },
      "source": [
        "<a href=\"https://colab.research.google.com/github/creatino/geocoding/blob/main/Reverse_geocoder.ipynb\" target=\"_parent\"><img src=\"https://colab.research.google.com/assets/colab-badge.svg\" alt=\"Open In Colab\"/></a>"
      ]
    },
    {
      "cell_type": "code",
      "execution_count": 1,
      "metadata": {
        "id": "9mWlfYBG_Zal",
        "colab": {
          "base_uri": "https://localhost:8080/"
        },
        "outputId": "bd746178-0738-4247-d011-8551b0da942e"
      },
      "outputs": [
        {
          "output_type": "stream",
          "name": "stdout",
          "text": [
            "Mounted at /content/gdrive\n"
          ]
        }
      ],
      "source": [
        "from google.colab import drive\n",
        "drive.mount('/content/gdrive')"
      ]
    },
    {
      "cell_type": "code",
      "source": [
        "!pip install reverse_geocoder"
      ],
      "metadata": {
        "colab": {
          "base_uri": "https://localhost:8080/"
        },
        "id": "7fvncoBvQWtf",
        "outputId": "2961d9f3-3c7d-4423-be37-d7f567f357d8"
      },
      "execution_count": 2,
      "outputs": [
        {
          "output_type": "stream",
          "name": "stdout",
          "text": [
            "Collecting reverse_geocoder\n",
            "  Downloading reverse_geocoder-1.5.1.tar.gz (2.2 MB)\n",
            "\u001b[?25l     \u001b[90m━━━━━━━━━━━━━━━━━━━━━━━━━━━━━━━━━━━━━━━━\u001b[0m \u001b[32m0.0/2.2 MB\u001b[0m \u001b[31m?\u001b[0m eta \u001b[36m-:--:--\u001b[0m\r\u001b[2K     \u001b[91m━━━━━━━━━━\u001b[0m\u001b[90m╺\u001b[0m\u001b[90m━━━━━━━━━━━━━━━━━━━━━━━━━━━━━\u001b[0m \u001b[32m0.6/2.2 MB\u001b[0m \u001b[31m16.7 MB/s\u001b[0m eta \u001b[36m0:00:01\u001b[0m\r\u001b[2K     \u001b[91m━━━━━━━━━━━━━━━━━━━━━━━━━━━━━━━━━━━━━━━\u001b[0m\u001b[91m╸\u001b[0m \u001b[32m2.2/2.2 MB\u001b[0m \u001b[31m42.8 MB/s\u001b[0m eta \u001b[36m0:00:01\u001b[0m\r\u001b[2K     \u001b[90m━━━━━━━━━━━━━━━━━━━━━━━━━━━━━━━━━━━━━━━━\u001b[0m \u001b[32m2.2/2.2 MB\u001b[0m \u001b[31m31.2 MB/s\u001b[0m eta \u001b[36m0:00:00\u001b[0m\n",
            "\u001b[?25h  Preparing metadata (setup.py) ... \u001b[?25l\u001b[?25hdone\n",
            "Requirement already satisfied: numpy>=1.11.0 in /usr/local/lib/python3.11/dist-packages (from reverse_geocoder) (1.26.4)\n",
            "Requirement already satisfied: scipy>=0.17.1 in /usr/local/lib/python3.11/dist-packages (from reverse_geocoder) (1.13.1)\n",
            "Building wheels for collected packages: reverse_geocoder\n",
            "  Building wheel for reverse_geocoder (setup.py) ... \u001b[?25l\u001b[?25hdone\n",
            "  Created wheel for reverse_geocoder: filename=reverse_geocoder-1.5.1-py3-none-any.whl size=2268068 sha256=469b892f709c3845c4c983557100801e4e6c6e28b12d57d72e1c2ac841c117e1\n",
            "  Stored in directory: /root/.cache/pip/wheels/17/3c/41/2bc89719586c2a5c53e9a527daa76a968a1288315c1ae2d904\n",
            "Successfully built reverse_geocoder\n",
            "Installing collected packages: reverse_geocoder\n",
            "Successfully installed reverse_geocoder-1.5.1\n"
          ]
        }
      ]
    },
    {
      "source": [
        "import os\n",
        "import pandas as pd\n",
        "import reverse_geocoder as rg\n",
        "\n",
        "# --- 1. Load your CSV data ---\n",
        "input_file_path = \"../content/gdrive/My Drive/Colab_Notebooks/5GCoverageCode/Simplified_Rand_Real.csv\"\n",
        "df = pd.read_csv(input_file_path)\n",
        "\n",
        "#Get output directory and create if not exist\n",
        "output_dir = \"../content/gdrive/My Drive/Colab_Notebooks/5GCoverageResults/\"\n",
        "os.makedirs(output_dir, exist_ok=True) # Create the output directory if it doesn't exist\n",
        "\n",
        "# --- 2. Prepare coordinates for batch geocoding ---\n",
        "coordinates = list(zip(df['SiteLatitude_decDeg'], df['SiteLongitude_decDeg']))\n",
        "\n",
        "# --- 3. Perform batch reverse geocoding ---\n",
        "results = rg.search(coordinates)\n",
        "\n",
        "# --- 4. Extract state information and add to DataFrame ---\n",
        "states = []\n",
        "for result in results:\n",
        "    state = result.get('admin1')  # First try admin1\n",
        "    if state is None or state == \"\":\n",
        "        state = result.get('admin2')  # If admin1 is missing, try admin2\n",
        "        if state is None or state == \"\":\n",
        "            state = result.get('name', 'Not Found')  # If both are missing, use 'name' or 'Not Found'\n",
        "    states.append(state)\n",
        "\n",
        "df['State'] = states\n",
        "\n",
        "# --- 5. Separate into files by state ---\n",
        "for state in df['State'].unique():\n",
        "    if state != \"Not Found\":  # Skip 'Not Found' entries\n",
        "        state_df = df[df['State'] == state]\n",
        "        output_file_path = os.path.join(output_dir, f\"{state}_sites.csv\")\n",
        "        state_df.to_csv(output_file_path, index=False)\n",
        "        print(f\"Created {output_file_path}\")\n",
        "    else:\n",
        "        not_found_df = df[df['State'] == \"Not Found\"]\n",
        "        output_file_path = os.path.join(output_dir, \"sites_not_found.csv\")\n",
        "        not_found_df.to_csv(output_file_path, index=False)\n",
        "        print(f\"Created {output_file_path}\")\n",
        "\n",
        "print(df.head())"
      ],
      "cell_type": "code",
      "metadata": {
        "id": "POz7IVIJgAxf",
        "collapsed": true
      },
      "execution_count": null,
      "outputs": []
    }
  ]
}